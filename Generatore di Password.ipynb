{
 "cells": [
  {
   "cell_type": "markdown",
   "metadata": {},
   "source": [
    "# Generatore di password"
   ]
  },
  {
   "cell_type": "markdown",
   "metadata": {},
   "source": [
    "Il codice che segue è ideato per generare una password, inserendo semplicemente in input un parametro da 1 a 4. Tale parametro sta ad indicare la \"forza\" che si desidera per la password. \n",
    "\n",
    "Debole 1 < 4 Forte"
   ]
  },
  {
   "cell_type": "code",
   "execution_count": 24,
   "metadata": {
    "scrolled": true
   },
   "outputs": [
    {
     "name": "stdout",
     "output_type": "stream",
     "text": [
      "Quanto forte vuoi che sia la tua password da 1 a 4? 4\n",
      "hyvkxpiu4844&!MNOUTCEF\n"
     ]
    }
   ],
   "source": [
    "import random\n",
    "\n",
    "A = input(\"Quanto forte vuoi che sia la tua password da 1 a 4? \")\n",
    "\n",
    "\n",
    "lettere_lista = \"a\" \"b\" \"c\" \"d\" \"e\" \"f\" \"g\" \"h\" \"i\" \"j\" \"k\" \"l\" \"m\" \"n\" \"o\" \"p\" \"q\" \"r\" \"s\" \"t\" \"u\" \"v\" \"w\" \"x\" \"y\" \"z\"\n",
    "lettere = random.sample(lettere_lista, 8)\n",
    "\n",
    "numeri = random.sample(range(1, 100), 2)\n",
    "\n",
    "simboli_lista = \"!\" \"$\" \"%\" \"&\" \"?\"\n",
    "simboli = random.sample(simboli_lista, 2)\n",
    "\n",
    "maiuscole = random.sample(lettere_lista.upper(), 8)\n",
    "\n",
    "password = []\n",
    "\n",
    "if A == \"1\":\n",
    "    password = \"\".join(lettere)\n",
    "    print(password)\n",
    "elif A == \"2\":\n",
    "    password = lettere + numeri\n",
    "    password = \"\".join(str(e) for e in password)\n",
    "    print(password)\n",
    "elif A == \"3\":\n",
    "    password = lettere + numeri + simboli\n",
    "    password = \"\".join(str(e) for e in password)\n",
    "    print(password)\n",
    "elif A == \"4\":\n",
    "    password = lettere + numeri + simboli + maiuscole\n",
    "    password = \"\".join(str(e) for e in password)\n",
    "    print(password)"
   ]
  }
 ],
 "metadata": {
  "kernelspec": {
   "display_name": "Python 3",
   "language": "python",
   "name": "python3"
  },
  "language_info": {
   "codemirror_mode": {
    "name": "ipython",
    "version": 3
   },
   "file_extension": ".py",
   "mimetype": "text/x-python",
   "name": "python",
   "nbconvert_exporter": "python",
   "pygments_lexer": "ipython3",
   "version": "3.8.5"
  }
 },
 "nbformat": 4,
 "nbformat_minor": 2
}
