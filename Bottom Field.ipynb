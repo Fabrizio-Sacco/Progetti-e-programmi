{
 "cells": [
  {
   "cell_type": "markdown",
   "metadata": {},
   "source": [
    "# Bottom Field"
   ]
  },
  {
   "cell_type": "markdown",
   "metadata": {},
   "source": [
    "Il codice che segue è stato ideato per creare un ambiente di gioco estremamente semplice, il cui nome è Bottom Field.\n",
    "\n",
    "La libreria utilizzata per tale scopo è PyGame.\n",
    "\n",
    "Gli unici elementi presenti sono lo sfondo e un elemento mobile che, per comodità, chiamiamo StickMan.\n",
    "\n",
    "Per avviare il codice e far girare il gioco sarà sufficiente inserire negli ELEMENTI i percorsi delle due immagine desiderate."
   ]
  },
  {
   "cell_type": "code",
   "execution_count": null,
   "metadata": {},
   "outputs": [],
   "source": [
    "import pygame                                                                    ### Librerie\n",
    "import random\n",
    "\n",
    "pygame.init()                                                                    ### Funzione di inizializzazione del gioco\n",
    "                                                                                 ### Elementi\n",
    "sfondo = pygame.image.load(     ### INSERISCI PERCORSO IMMAGINE SFONDO     )\n",
    "stickman = pygame.image.load(     ### INSERISCI PERCORSO IMMAGINE DELL'ELEMENTO MOBILE )\n",
    "                                                                           \n",
    "altezza_schermo = 612                                                            ### Schermata di gioco\n",
    "larchezza_schermo = 980\n",
    "SCHERMO = pygame.display.set_mode((larchezza_schermo, altezza_schermo))\n",
    "pygame.display.set_caption(\"Bottom Field\")                                       ### Titolo della finestra di gioco\n",
    "FPS = 50\n",
    "                                                                            \n",
    "stickmanx = 0                                                                    ### Posizione stickman\n",
    "stickmany = 0\n",
    "stickman_vely = 0\n",
    "\n",
    "def inizializza():\n",
    "    global stickmanx, stickmany, stickman_vely\n",
    "    stickmanx, stickmany = 60, 150\n",
    "    stickman_vely = 0\n",
    "\n",
    "def disegna_oggetti():\n",
    "    global stickmanx, stickmany, stickman_vely\n",
    "    SCHERMO.blit(sfondo, (0,0))\n",
    "    SCHERMO.blit(stickman, (stickmanx, stickmany))\n",
    "\n",
    "def aggiorna():\n",
    "    pygame.display.update()\n",
    "    pygame.time.Clock().tick(FPS)\n",
    "\n",
    "def movimento_oggetti():\n",
    "    global stickmanx, stickmany, stickman_vely\n",
    "    pressed = pygame.key.get_pressed()\n",
    "    if pressed[pygame.K_LEFT]: stickmanx -= 3\n",
    "    if pressed[pygame.K_RIGHT]: stickmanx += 3\n",
    "    if pressed[pygame.K_DOWN]: stickmany += 3\n",
    "    if pressed[pygame.K_UP]: stickmany -= 3\n",
    "\n",
    "running = True                                                                  \n",
    "while running:\n",
    "    disegna_oggetti()\n",
    "    aggiorna()\n",
    "    movimento_oggetti()\n",
    "    for event in pygame.event.get():\n",
    "        if event.type == pygame.QUIT:\n",
    "            running = False\n",
    "pygame.quit()"
   ]
  }
 ],
 "metadata": {
  "kernelspec": {
   "display_name": "Python 3",
   "language": "python",
   "name": "python3"
  },
  "language_info": {
   "codemirror_mode": {
    "name": "ipython",
    "version": 3
   },
   "file_extension": ".py",
   "mimetype": "text/x-python",
   "name": "python",
   "nbconvert_exporter": "python",
   "pygments_lexer": "ipython3",
   "version": "3.8.5"
  }
 },
 "nbformat": 4,
 "nbformat_minor": 4
}
